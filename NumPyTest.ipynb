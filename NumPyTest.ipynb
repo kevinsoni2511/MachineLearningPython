{
 "cells": [
  {
   "cell_type": "markdown",
   "id": "9570ddc1-2c70-47ba-b435-97a144509641",
   "metadata": {
    "jp-MarkdownHeadingCollapsed": true
   },
   "source": [
    "### Soni Kevin Harshadbhai"
   ]
  },
  {
   "cell_type": "markdown",
   "id": "b4f7f48c-5bde-4719-9523-374601acff84",
   "metadata": {},
   "source": [
    "### MScit Sem-2"
   ]
  },
  {
   "cell_type": "markdown",
   "id": "8a2edcdd-cd79-4955-9614-5833920ef6ef",
   "metadata": {},
   "source": [
    "### Sub= MLP"
   ]
  },
  {
   "cell_type": "markdown",
   "id": "ad64067b-c692-430f-a8ad-0dc38116e387",
   "metadata": {},
   "source": [
    "### Enrollment:2024008190100"
   ]
  },
  {
   "cell_type": "code",
   "execution_count": 5,
   "id": "4290b6ff",
   "metadata": {},
   "outputs": [],
   "source": [
    "import numpy as np # np is not mandatory"
   ]
  },
  {
   "cell_type": "code",
   "execution_count": 6,
   "id": "41b711ce",
   "metadata": {
    "jupyter": {
     "source_hidden": true
    }
   },
   "outputs": [],
   "source": [
    "#Function"
   ]
  },
  {
   "cell_type": "code",
   "execution_count": 7,
   "id": "d0b8f3e3",
   "metadata": {},
   "outputs": [
    {
     "name": "stdout",
     "output_type": "stream",
     "text": [
      "[[1 2 3]\n",
      " [4 5 6]]\n"
     ]
    }
   ],
   "source": [
    "a = np.array([[1,2,3],[4,5,6]])\n",
    "print(a)"
   ]
  },
  {
   "cell_type": "code",
   "execution_count": 8,
   "id": "766572dc",
   "metadata": {},
   "outputs": [
    {
     "name": "stdout",
     "output_type": "stream",
     "text": [
      "shape of a(2, 3)\n",
      "Number of dimension2\n",
      "size of array6\n",
      "Itemsize8\n",
      "data<memory at 0x0000021339EB12F0>\n"
     ]
    }
   ],
   "source": [
    "#shape function of array 2 row and 3 columns\n",
    "print(f\"shape of a{format(a.shape)}\")\n",
    "#2dim or 1 dim\n",
    "print(f\"Number of dimension{format(a.ndim)}\")\n",
    "#array of size\n",
    "print(f\"size of array{format(a.size)}\")\n",
    "#Itemsize show  the size of each element like how many memory they occupie\n",
    "print(f\"Itemsize{(a.itemsize)}\")\n",
    "#data function is shows the location of the data\n",
    "print(f\"data{a.data}\")"
   ]
  },
  {
   "cell_type": "code",
   "execution_count": 9,
   "id": "a685adaa",
   "metadata": {},
   "outputs": [
    {
     "name": "stdout",
     "output_type": "stream",
     "text": [
      "[[1 2 3]\n",
      " [4 5 6]]\n",
      "[[ 9  8  7]\n",
      " [44 55 66]]\n"
     ]
    }
   ],
   "source": [
    "m1=np.array([[1,2,3],[4,5,6]])\n",
    "m2=np.array([[9,8,7],[44,55,66]])\n",
    "print(m1)\n",
    "print(m2)"
   ]
  },
  {
   "cell_type": "code",
   "execution_count": 10,
   "id": "99fd8558",
   "metadata": {},
   "outputs": [
    {
     "name": "stdout",
     "output_type": "stream",
     "text": [
      "[[1 2 3]]\n"
     ]
    }
   ],
   "source": [
    "# in this array start with 0 in 3 means all element or 1 row show mate & 2 coloum show kare\n",
    "sliceArr = m1[:1]\n",
    "print(sliceArr)"
   ]
  },
  {
   "cell_type": "code",
   "execution_count": 11,
   "id": "133a859e",
   "metadata": {},
   "outputs": [
    {
     "name": "stdout",
     "output_type": "stream",
     "text": [
      "[[1 2 3]\n",
      " [4 5 6]]\n"
     ]
    }
   ],
   "source": [
    "sliceArr = m1[:2]\n",
    "print(sliceArr)"
   ]
  },
  {
   "cell_type": "code",
   "execution_count": 12,
   "id": "9a0830e0",
   "metadata": {},
   "outputs": [
    {
     "name": "stdout",
     "output_type": "stream",
     "text": [
      "[[1 2]\n",
      " [4 5]]\n"
     ]
    }
   ],
   "source": [
    "sliceArr = m1[:3,:2]\n",
    "print(sliceArr)"
   ]
  },
  {
   "cell_type": "code",
   "execution_count": 13,
   "id": "6daa22da",
   "metadata": {},
   "outputs": [
    {
     "name": "stdout",
     "output_type": "stream",
     "text": [
      "21\n"
     ]
    }
   ],
   "source": [
    "print (m1.sum())"
   ]
  },
  {
   "cell_type": "code",
   "execution_count": 14,
   "id": "096896ce",
   "metadata": {
    "scrolled": true
   },
   "outputs": [
    {
     "name": "stdout",
     "output_type": "stream",
     "text": [
      "[[1 2]\n",
      " [5 6]]\n",
      "[[ 9  8]\n",
      " [55 66]]\n"
     ]
    }
   ],
   "source": [
    "m3=np.array([[1,2],[5,6]])\n",
    "m4=np.array([[9,8],[55,66]])\n",
    "print(m3)\n",
    "print(m4)"
   ]
  },
  {
   "cell_type": "code",
   "execution_count": 15,
   "id": "817ac076",
   "metadata": {},
   "outputs": [
    {
     "name": "stdout",
     "output_type": "stream",
     "text": [
      "[[119 140]\n",
      " [375 436]]\n"
     ]
    }
   ],
   "source": [
    "mul=np.dot(m3,m4)\n",
    "print(mul)"
   ]
  },
  {
   "cell_type": "code",
   "execution_count": 16,
   "id": "e018b6ea",
   "metadata": {},
   "outputs": [
    {
     "name": "stdout",
     "output_type": "stream",
     "text": [
      "[[  9  16]\n",
      " [275 396]]\n"
     ]
    }
   ],
   "source": [
    "mulM=np.multiply(m3,m4)\n",
    "print(mulM)"
   ]
  },
  {
   "cell_type": "code",
   "execution_count": 17,
   "id": "771b4f3d",
   "metadata": {},
   "outputs": [
    {
     "name": "stdout",
     "output_type": "stream",
     "text": [
      "[[ 8  6]\n",
      " [50 60]]\n"
     ]
    }
   ],
   "source": [
    "subM=np.subtract(m4,m3)\n",
    "print(subM)"
   ]
  },
  {
   "cell_type": "code",
   "execution_count": 21,
   "id": "b2c43af2",
   "metadata": {},
   "outputs": [
    {
     "name": "stdout",
     "output_type": "stream",
     "text": [
      "[1 2 3 4 5 6 7 8]\n",
      "[[1 2 3 4]\n",
      " [5 6 7 8]]\n"
     ]
    }
   ],
   "source": [
    "m5=np.array([1,2,3,4,5,6,7,8])\n",
    "print(m5)\n",
    "reshpe=m5.reshape(2,4)#resize the array if your value is 10 than 2,5 value you can resize not 6,4\n",
    "print(reshpe)"
   ]
  },
  {
   "cell_type": "code",
   "execution_count": 22,
   "id": "823679ef",
   "metadata": {},
   "outputs": [
    {
     "name": "stdout",
     "output_type": "stream",
     "text": [
      "8\n"
     ]
    }
   ],
   "source": [
    "print(m5.max())"
   ]
  },
  {
   "cell_type": "code",
   "execution_count": 23,
   "id": "60382236-e5dc-4f71-a369-b3c96097c979",
   "metadata": {},
   "outputs": [
    {
     "name": "stdout",
     "output_type": "stream",
     "text": [
      "1\n"
     ]
    }
   ],
   "source": [
    "print(m5.min())"
   ]
  },
  {
   "cell_type": "code",
   "execution_count": 24,
   "id": "c124c5d8-2d1a-42ff-bef2-7dc988d08ab0",
   "metadata": {},
   "outputs": [
    {
     "name": "stdout",
     "output_type": "stream",
     "text": [
      "[4 8]\n"
     ]
    }
   ],
   "source": [
    "print(reshpe.max(axis=1))"
   ]
  },
  {
   "cell_type": "code",
   "execution_count": 26,
   "id": "48aad109-c2de-4d92-bdd9-888176fe45a7",
   "metadata": {},
   "outputs": [
    {
     "name": "stdout",
     "output_type": "stream",
     "text": [
      "[1 2 3 4]\n"
     ]
    }
   ],
   "source": [
    "print(reshpe.min(axis=0))"
   ]
  },
  {
   "cell_type": "code",
   "execution_count": 27,
   "id": "54b96684-9b69-4fa8-b3d4-4d2babd54938",
   "metadata": {},
   "outputs": [
    {
     "name": "stdout",
     "output_type": "stream",
     "text": [
      "[[ 3 11 26]\n",
      " [25 45 56]]\n",
      "18.254375426790755\n"
     ]
    }
   ],
   "source": [
    "m6= np.array([[3,11,26],[25,45,56]])\n",
    "print(m6)\n",
    "print(np.std(m6))"
   ]
  },
  {
   "cell_type": "code",
   "execution_count": 29,
   "id": "8cbc96d1-cd83-4117-8dd2-9b7035a432f7",
   "metadata": {},
   "outputs": [
    {
     "name": "stdout",
     "output_type": "stream",
     "text": [
      "[[ 1  2  3]\n",
      " [ 4  5  6]\n",
      " [ 9  8  7]\n",
      " [44 55 66]]\n"
     ]
    }
   ],
   "source": [
    "v=np.vstack((m1,m2))\n",
    "print(v)"
   ]
  },
  {
   "cell_type": "code",
   "execution_count": 30,
   "id": "32ebb268-ede3-460d-af4b-347ecb68cb30",
   "metadata": {},
   "outputs": [
    {
     "name": "stdout",
     "output_type": "stream",
     "text": [
      "[[ 1  2  3  9  8  7]\n",
      " [ 4  5  6 44 55 66]]\n"
     ]
    }
   ],
   "source": [
    "h=np.hstack((m1,m2))\n",
    "print(h)"
   ]
  },
  {
   "cell_type": "code",
   "execution_count": 32,
   "id": "8726a599-3eb9-411e-94b8-cc034e7d5bfb",
   "metadata": {},
   "outputs": [
    {
     "name": "stdout",
     "output_type": "stream",
     "text": [
      "[ 0.  2.  4.  6.  8. 10. 12. 14. 16. 18.]\n",
      "float64\n"
     ]
    }
   ],
   "source": [
    "arry= np.arange(0,20,2,float)\n",
    "print(arry)\n",
    "print(arry.dtype)"
   ]
  },
  {
   "cell_type": "code",
   "execution_count": 34,
   "id": "e9ac9c4e-f23d-4787-b5e5-0d6cd07f499e",
   "metadata": {},
   "outputs": [
    {
     "name": "stdout",
     "output_type": "stream",
     "text": [
      "[ 0. 20.]\n"
     ]
    }
   ],
   "source": [
    "arry1= np.linspace(0,20,2)\n",
    "print(arry1)"
   ]
  },
  {
   "cell_type": "code",
   "execution_count": 35,
   "id": "b0a1f74e-a95f-4af0-8035-b10ccf4f79a5",
   "metadata": {},
   "outputs": [
    {
     "name": "stdout",
     "output_type": "stream",
     "text": [
      "[ 0.          2.22222222  4.44444444  6.66666667  8.88888889 11.11111111\n",
      " 13.33333333 15.55555556 17.77777778 20.        ]\n"
     ]
    }
   ],
   "source": [
    "arry1= np.linspace(0,20,10)\n",
    "print(arry1)"
   ]
  },
  {
   "cell_type": "code",
   "execution_count": 36,
   "id": "178944f6-47e2-4131-8bc9-5883cecc9947",
   "metadata": {},
   "outputs": [
    {
     "name": "stdout",
     "output_type": "stream",
     "text": [
      "[[ 1  4]\n",
      " [ 2  5]\n",
      " [ 3  6]\n",
      " [ 9 44]\n",
      " [ 8 55]\n",
      " [ 7 66]]\n"
     ]
    }
   ],
   "source": [
    "ht= h.T\n",
    "print(ht)"
   ]
  },
  {
   "cell_type": "code",
   "execution_count": 39,
   "id": "e42ea423-aedf-4192-950b-bde98a335fa7",
   "metadata": {},
   "outputs": [
    {
     "name": "stdout",
     "output_type": "stream",
     "text": [
      "ele: 1\n",
      "ele: 2\n",
      "ele: 3\n",
      "ele: 9\n",
      "ele: 8\n",
      "ele: 7\n",
      "ele: 4\n",
      "ele: 5\n",
      "ele: 6\n",
      "ele: 44\n",
      "ele: 55\n",
      "ele: 66\n"
     ]
    }
   ],
   "source": [
    "for i in np.nditer(ht):\n",
    "    print(\"ele:\",i)"
   ]
  },
  {
   "cell_type": "code",
   "execution_count": 40,
   "id": "2f5b1f42-a869-4f4f-8798-14cc42075efd",
   "metadata": {},
   "outputs": [
    {
     "name": "stdout",
     "output_type": "stream",
     "text": [
      "[array([[1, 2, 3],\n",
      "       [4, 5, 6]]), array([[ 9,  8,  7],\n",
      "       [44, 55, 66]])]\n"
     ]
    }
   ],
   "source": [
    "print(np.hsplit(h,2))"
   ]
  },
  {
   "cell_type": "code",
   "execution_count": 42,
   "id": "7a5961e5-4a4c-4218-b1d7-cbfce62af925",
   "metadata": {},
   "outputs": [
    {
     "name": "stdout",
     "output_type": "stream",
     "text": [
      "[array([[1, 2, 3, 9, 8, 7]]), array([[ 4,  5,  6, 44, 55, 66]])]\n"
     ]
    }
   ],
   "source": [
    "print(np.vsplit(h,2))"
   ]
  },
  {
   "cell_type": "code",
   "execution_count": null,
   "id": "a3b444cb-f905-4e37-a05b-6f8df2fd2139",
   "metadata": {},
   "outputs": [],
   "source": []
  },
  {
   "cell_type": "code",
   "execution_count": null,
   "id": "0503d4a6-bcc2-464a-8c1c-b7e51e4030ac",
   "metadata": {},
   "outputs": [],
   "source": []
  },
  {
   "cell_type": "code",
   "execution_count": null,
   "id": "237379b3-8885-41a1-91de-84367b11968f",
   "metadata": {},
   "outputs": [],
   "source": []
  },
  {
   "cell_type": "code",
   "execution_count": null,
   "id": "a73f629f-2643-4c5b-a90e-6dbb3e8eae7a",
   "metadata": {},
   "outputs": [],
   "source": []
  },
  {
   "cell_type": "code",
   "execution_count": null,
   "id": "7b663ea3-9261-417a-a356-dff93261e21d",
   "metadata": {},
   "outputs": [],
   "source": []
  },
  {
   "cell_type": "code",
   "execution_count": null,
   "id": "bc15551e-0f54-4a90-9390-da9d2767eb35",
   "metadata": {},
   "outputs": [],
   "source": []
  },
  {
   "cell_type": "code",
   "execution_count": null,
   "id": "7588a4be-eac6-474e-a42e-8351fbcd51d0",
   "metadata": {},
   "outputs": [],
   "source": []
  },
  {
   "cell_type": "code",
   "execution_count": null,
   "id": "e5c08c04",
   "metadata": {},
   "outputs": [],
   "source": []
  },
  {
   "cell_type": "code",
   "execution_count": null,
   "id": "c0eafd63",
   "metadata": {},
   "outputs": [],
   "source": []
  },
  {
   "cell_type": "code",
   "execution_count": null,
   "id": "56afd333",
   "metadata": {},
   "outputs": [],
   "source": []
  },
  {
   "cell_type": "code",
   "execution_count": null,
   "id": "49f3a0f5",
   "metadata": {},
   "outputs": [],
   "source": []
  },
  {
   "cell_type": "code",
   "execution_count": null,
   "id": "6bbbc5c4",
   "metadata": {},
   "outputs": [],
   "source": []
  },
  {
   "cell_type": "code",
   "execution_count": null,
   "id": "e455ba60",
   "metadata": {},
   "outputs": [],
   "source": []
  },
  {
   "cell_type": "code",
   "execution_count": null,
   "id": "2f500146",
   "metadata": {},
   "outputs": [],
   "source": []
  },
  {
   "cell_type": "code",
   "execution_count": null,
   "id": "24ebb87a",
   "metadata": {},
   "outputs": [],
   "source": []
  },
  {
   "cell_type": "code",
   "execution_count": null,
   "id": "daa3cb2c",
   "metadata": {},
   "outputs": [],
   "source": []
  },
  {
   "cell_type": "code",
   "execution_count": null,
   "id": "29909d69",
   "metadata": {},
   "outputs": [],
   "source": []
  },
  {
   "cell_type": "code",
   "execution_count": null,
   "id": "5e050301",
   "metadata": {},
   "outputs": [],
   "source": []
  },
  {
   "cell_type": "code",
   "execution_count": null,
   "id": "24100963",
   "metadata": {},
   "outputs": [],
   "source": []
  },
  {
   "cell_type": "code",
   "execution_count": null,
   "id": "ea2df58d",
   "metadata": {},
   "outputs": [],
   "source": []
  },
  {
   "cell_type": "code",
   "execution_count": null,
   "id": "fd0e31d2",
   "metadata": {},
   "outputs": [],
   "source": []
  },
  {
   "cell_type": "code",
   "execution_count": null,
   "id": "8f6c7c07",
   "metadata": {},
   "outputs": [],
   "source": []
  },
  {
   "cell_type": "code",
   "execution_count": null,
   "id": "b207700c",
   "metadata": {},
   "outputs": [],
   "source": []
  },
  {
   "cell_type": "code",
   "execution_count": null,
   "id": "87998d83",
   "metadata": {},
   "outputs": [],
   "source": []
  },
  {
   "cell_type": "code",
   "execution_count": null,
   "id": "0e86ca3d",
   "metadata": {},
   "outputs": [],
   "source": []
  },
  {
   "cell_type": "code",
   "execution_count": null,
   "id": "ae79e61a",
   "metadata": {},
   "outputs": [],
   "source": []
  },
  {
   "cell_type": "code",
   "execution_count": null,
   "id": "96085174",
   "metadata": {},
   "outputs": [],
   "source": []
  },
  {
   "cell_type": "code",
   "execution_count": null,
   "id": "78ab400c",
   "metadata": {},
   "outputs": [],
   "source": []
  },
  {
   "cell_type": "code",
   "execution_count": null,
   "id": "110715fa",
   "metadata": {},
   "outputs": [],
   "source": []
  },
  {
   "cell_type": "code",
   "execution_count": null,
   "id": "45fb0f07",
   "metadata": {},
   "outputs": [],
   "source": []
  },
  {
   "cell_type": "code",
   "execution_count": null,
   "id": "81b1fad5",
   "metadata": {},
   "outputs": [],
   "source": []
  },
  {
   "cell_type": "code",
   "execution_count": null,
   "id": "71edb828",
   "metadata": {},
   "outputs": [],
   "source": []
  },
  {
   "cell_type": "code",
   "execution_count": null,
   "id": "aa308d2e",
   "metadata": {},
   "outputs": [],
   "source": []
  },
  {
   "cell_type": "code",
   "execution_count": null,
   "id": "9fbe038d",
   "metadata": {},
   "outputs": [],
   "source": []
  },
  {
   "cell_type": "code",
   "execution_count": null,
   "id": "d4daf9e9",
   "metadata": {},
   "outputs": [],
   "source": []
  },
  {
   "cell_type": "code",
   "execution_count": null,
   "id": "c13d2a99",
   "metadata": {},
   "outputs": [],
   "source": []
  },
  {
   "cell_type": "code",
   "execution_count": null,
   "id": "1241c93e",
   "metadata": {},
   "outputs": [],
   "source": []
  },
  {
   "cell_type": "code",
   "execution_count": null,
   "id": "62ac5e5e",
   "metadata": {},
   "outputs": [],
   "source": []
  },
  {
   "cell_type": "code",
   "execution_count": null,
   "id": "31cbd033",
   "metadata": {},
   "outputs": [],
   "source": []
  },
  {
   "cell_type": "code",
   "execution_count": null,
   "id": "a915d85a",
   "metadata": {},
   "outputs": [],
   "source": []
  },
  {
   "cell_type": "code",
   "execution_count": null,
   "id": "cd5ee243",
   "metadata": {},
   "outputs": [],
   "source": []
  },
  {
   "cell_type": "code",
   "execution_count": null,
   "id": "20bc44ce",
   "metadata": {},
   "outputs": [],
   "source": []
  },
  {
   "cell_type": "code",
   "execution_count": null,
   "id": "bec7b474",
   "metadata": {},
   "outputs": [],
   "source": []
  },
  {
   "cell_type": "code",
   "execution_count": null,
   "id": "fe12f864",
   "metadata": {},
   "outputs": [],
   "source": []
  },
  {
   "cell_type": "code",
   "execution_count": null,
   "id": "90579b50",
   "metadata": {},
   "outputs": [],
   "source": []
  },
  {
   "cell_type": "code",
   "execution_count": null,
   "id": "23319440",
   "metadata": {},
   "outputs": [],
   "source": []
  },
  {
   "cell_type": "code",
   "execution_count": null,
   "id": "0e059bca",
   "metadata": {},
   "outputs": [],
   "source": []
  },
  {
   "cell_type": "code",
   "execution_count": null,
   "id": "5a92efc9",
   "metadata": {},
   "outputs": [],
   "source": []
  },
  {
   "cell_type": "code",
   "execution_count": null,
   "id": "052200d9",
   "metadata": {},
   "outputs": [],
   "source": []
  },
  {
   "cell_type": "code",
   "execution_count": null,
   "id": "06e1854a",
   "metadata": {},
   "outputs": [],
   "source": []
  },
  {
   "cell_type": "code",
   "execution_count": null,
   "id": "ec15f411",
   "metadata": {},
   "outputs": [],
   "source": []
  },
  {
   "cell_type": "code",
   "execution_count": null,
   "id": "a77f1ffe-cbea-4013-9d19-f2514644a22e",
   "metadata": {},
   "outputs": [],
   "source": []
  },
  {
   "cell_type": "markdown",
   "id": "e2ba6067-97d9-43bd-90ff-7822d6cf969a",
   "metadata": {},
   "source": [
    "SONI Kevin"
   ]
  }
 ],
 "metadata": {
  "kernelspec": {
   "display_name": "Python 3 (ipykernel)",
   "language": "python",
   "name": "python3"
  },
  "language_info": {
   "codemirror_mode": {
    "name": "ipython",
    "version": 3
   },
   "file_extension": ".py",
   "mimetype": "text/x-python",
   "name": "python",
   "nbconvert_exporter": "python",
   "pygments_lexer": "ipython3",
   "version": "3.12.4"
  }
 },
 "nbformat": 4,
 "nbformat_minor": 5
}
