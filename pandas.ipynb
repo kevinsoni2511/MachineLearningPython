{
 "cells": [
  {
   "cell_type": "markdown",
   "id": "43eeee83-af64-4d6b-a6a9-8acd26a766ff",
   "metadata": {},
   "source": [
    "# Pandas"
   ]
  },
  {
   "cell_type": "code",
   "execution_count": 28,
   "id": "8d299a17-8a87-4571-b8a7-390aae31ff85",
   "metadata": {},
   "outputs": [],
   "source": [
    "import pandas as pd\n",
    "import matplotlib.pyplot as plt"
   ]
  },
  {
   "cell_type": "code",
   "execution_count": 29,
   "id": "eead254d-2a21-4bd0-aced-fa2e4822698c",
   "metadata": {},
   "outputs": [
    {
     "name": "stdout",
     "output_type": "stream",
     "text": [
      "  student  admission\n",
      "0   Kevin       2023\n",
      "1    lalo       2022\n",
      "2  Vatsal       2021\n"
     ]
    }
   ],
   "source": [
    "dataSet={ 'student':['Kevin','lalo','Vatsal'],\n",
    "        'admission':[2023,2022,2021]}\n",
    "\n",
    "demo = pd.DataFrame(dataSet)\n",
    "print(demo)"
   ]
  },
  {
   "cell_type": "code",
   "execution_count": 30,
   "id": "1f705a80-ab5d-4b60-8bc9-41c6a5f9ef10",
   "metadata": {},
   "outputs": [
    {
     "name": "stdout",
     "output_type": "stream",
     "text": [
      "2.2.3\n"
     ]
    }
   ],
   "source": [
    "print(pd.__version__)#this shows the version of pandas"
   ]
  },
  {
   "cell_type": "code",
   "execution_count": 31,
   "id": "4b8de44f-c2db-4cba-b064-f487a147ab1b",
   "metadata": {},
   "outputs": [
    {
     "name": "stdout",
     "output_type": "stream",
     "text": [
      "0    30\n",
      "1    40\n",
      "2    60\n",
      "3    70\n",
      "dtype: int64\n"
     ]
    }
   ],
   "source": [
    "a= [30,40,60,70]\n",
    "demo1=pd.Series(a)#Series is like a column value in a table\n",
    "                #It is a one-dimensional array holding data of any type.\n",
    "                #0,1,2,3 is define index auto genrate\n",
    "print(demo1)"
   ]
  },
  {
   "cell_type": "code",
   "execution_count": 32,
   "id": "78658c79-6fbe-42bc-a199-ef2593e2607a",
   "metadata": {},
   "outputs": [
    {
     "name": "stdout",
     "output_type": "stream",
     "text": [
      "x1    30\n",
      "x2    40\n",
      "x3    60\n",
      "x4    70\n",
      "dtype: int64\n"
     ]
    }
   ],
   "source": [
    "demo2 = pd.Series(a,index=[\"x1\",\"x2\",\"x3\",\"x4\"])\n",
    "print(demo2)"
   ]
  },
  {
   "cell_type": "code",
   "execution_count": 33,
   "id": "0e917ecc-3c8c-47a6-bac5-8747cc887a29",
   "metadata": {},
   "outputs": [
    {
     "name": "stdout",
     "output_type": "stream",
     "text": [
      "abc    440\n",
      "def    220\n",
      "ssd    300\n",
      "dtype: int64\n",
      "0    30\n",
      "1    40\n",
      "2    60\n",
      "3    70\n",
      "dtype: int64\n"
     ]
    }
   ],
   "source": [
    "StudMarks={\"abc\":440,\"def\":220,\"ssd\":300}\n",
    "demo2=pd.Series(StudMarks)\n",
    "print(demo2)\n",
    "print(demo1)"
   ]
  },
  {
   "cell_type": "code",
   "execution_count": 34,
   "id": "d582f327-1e4e-4452-ac55-cb720291854e",
   "metadata": {},
   "outputs": [
    {
     "name": "stdout",
     "output_type": "stream",
     "text": [
      "100\n"
     ]
    }
   ],
   "source": [
    "print(pd.options.display.max_rows)"
   ]
  },
  {
   "cell_type": "code",
   "execution_count": 35,
   "id": "6d9fd240-c036-405d-b5d0-f98faa0f4ebb",
   "metadata": {
    "scrolled": true
   },
   "outputs": [
    {
     "name": "stdout",
     "output_type": "stream",
     "text": [
      "   SrNo     Name  Total Marks  Obtained Marks  Percentage  Grade\n",
      "0     1    Kevin        500.0           400.0         NaN    NaN\n",
      "1     2     cscs        500.0           450.0         NaN    NaN\n",
      "2     3   Vatsal        500.0           350.0         NaN    NaN\n",
      "3     4     gwgw        500.0           320.0         NaN    NaN\n",
      "4     5  Rutansh        500.0           220.0         NaN    NaN\n",
      "5     6     feff        500.0           120.0         NaN    NaN\n",
      "6     7     sccw          NaN             NaN         NaN    NaN\n"
     ]
    }
   ],
   "source": [
    "pd.options.display.max_rows=100\n",
    "stud_marks=pd.read_csv('DemoData1.csv')\n",
    "print(stud_marks)"
   ]
  },
  {
   "cell_type": "code",
   "execution_count": 36,
   "id": "f9162b33-ef02-42a5-b8f1-849723c96e8a",
   "metadata": {},
   "outputs": [
    {
     "name": "stdout",
     "output_type": "stream",
     "text": [
      "     product  price\n",
      "0  chocolate     50\n",
      "1       puff     20\n",
      "2     wafers     10\n"
     ]
    }
   ],
   "source": [
    "data={\"product\":[\"chocolate\",\"puff\",\"wafers\"],\n",
    "      \"price\":[50,20,10]}\n",
    "dataFr=pd.DataFrame(data)\n",
    "\n",
    "print(dataFr)\n"
   ]
  },
  {
   "cell_type": "code",
   "execution_count": 37,
   "id": "5d6ce0a9-30f2-42a9-a5e3-9a5f7fcc7699",
   "metadata": {},
   "outputs": [
    {
     "name": "stdout",
     "output_type": "stream",
     "text": [
      "product    wafers\n",
      "price          10\n",
      "Name: 2, dtype: object\n"
     ]
    }
   ],
   "source": [
    "print(dataFr.loc[2])# to fetch the single row for Df"
   ]
  },
  {
   "cell_type": "code",
   "execution_count": 38,
   "id": "30e90e0d-ec82-4a00-9a5e-b0beed274f88",
   "metadata": {},
   "outputs": [
    {
     "name": "stdout",
     "output_type": "stream",
     "text": [
      "   SrNo     Name  Total Marks  Obtained Marks  Percentage  Grade\n",
      "0     1    Kevin        500.0           400.0         NaN    NaN\n",
      "1     2     cscs        500.0           450.0         NaN    NaN\n",
      "2     3   Vatsal        500.0           350.0         NaN    NaN\n",
      "3     4     gwgw        500.0           320.0         NaN    NaN\n",
      "4     5  Rutansh        500.0           220.0         NaN    NaN\n"
     ]
    }
   ],
   "source": [
    "print(stud_marks.head())"
   ]
  },
  {
   "cell_type": "code",
   "execution_count": 39,
   "id": "0745f561-8d2c-47a7-9974-236dc33b2844",
   "metadata": {},
   "outputs": [
    {
     "name": "stdout",
     "output_type": "stream",
     "text": [
      "   SrNo     Name  Total Marks  Obtained Marks  Percentage  Grade\n",
      "2     3   Vatsal        500.0           350.0         NaN    NaN\n",
      "3     4     gwgw        500.0           320.0         NaN    NaN\n",
      "4     5  Rutansh        500.0           220.0         NaN    NaN\n",
      "5     6     feff        500.0           120.0         NaN    NaN\n",
      "6     7     sccw          NaN             NaN         NaN    NaN\n"
     ]
    }
   ],
   "source": [
    "print(stud_marks.tail())"
   ]
  },
  {
   "cell_type": "code",
   "execution_count": 40,
   "id": "73fa5b35-961f-4660-8a72-99270495cef0",
   "metadata": {},
   "outputs": [
    {
     "name": "stdout",
     "output_type": "stream",
     "text": [
      "SrNo                  4\n",
      "Name               gwgw\n",
      "Total Marks       500.0\n",
      "Obtained Marks    320.0\n",
      "Percentage          NaN\n",
      "Grade               NaN\n",
      "Name: 3, dtype: object\n"
     ]
    }
   ],
   "source": [
    "print(stud_marks.loc[3])"
   ]
  },
  {
   "cell_type": "code",
   "execution_count": 41,
   "id": "1d953cb1-b9ee-4068-9661-c542ae250433",
   "metadata": {},
   "outputs": [
    {
     "name": "stdout",
     "output_type": "stream",
     "text": [
      "<class 'pandas.core.frame.DataFrame'>\n",
      "RangeIndex: 7 entries, 0 to 6\n",
      "Data columns (total 6 columns):\n",
      " #   Column          Non-Null Count  Dtype  \n",
      "---  ------          --------------  -----  \n",
      " 0   SrNo            7 non-null      int64  \n",
      " 1   Name            7 non-null      object \n",
      " 2   Total Marks     6 non-null      float64\n",
      " 3   Obtained Marks  6 non-null      float64\n",
      " 4   Percentage      0 non-null      float64\n",
      " 5   Grade           0 non-null      float64\n",
      "dtypes: float64(4), int64(1), object(1)\n",
      "memory usage: 468.0+ bytes\n",
      "None\n"
     ]
    }
   ],
   "source": [
    "print(stud_marks.info())"
   ]
  },
  {
   "cell_type": "code",
   "execution_count": 42,
   "id": "311f12cd-8134-48f9-987d-2e0f8c7ed5b8",
   "metadata": {},
   "outputs": [
    {
     "name": "stdout",
     "output_type": "stream",
     "text": [
      "Empty DataFrame\n",
      "Columns: [SrNo, Name, Total Marks, Obtained Marks, Percentage, Grade]\n",
      "Index: []\n"
     ]
    }
   ],
   "source": [
    "new_stud=stud_marks.dropna()\n",
    "print(new_stud)"
   ]
  },
  {
   "cell_type": "code",
   "execution_count": null,
   "id": "fab6dc22-9146-410b-96cf-45c77f9ffd12",
   "metadata": {},
   "outputs": [],
   "source": []
  },
  {
   "cell_type": "code",
   "execution_count": 43,
   "id": "2d9b83a8-e09c-42ca-a0d1-e9a935ac5948",
   "metadata": {},
   "outputs": [
    {
     "name": "stdout",
     "output_type": "stream",
     "text": [
      "   SrNo     Name  Total Marks  Obtained Marks  Percentage  Grade\n",
      "0     1    Kevin        500.0           400.0       150.0  150.0\n",
      "1     2     cscs        500.0           450.0       150.0  150.0\n",
      "2     3   Vatsal        500.0           350.0       150.0  150.0\n",
      "3     4     gwgw        500.0           320.0       150.0  150.0\n",
      "4     5  Rutansh        500.0           220.0       150.0  150.0\n",
      "5     6     feff        500.0           120.0       150.0  150.0\n",
      "6     7     sccw        150.0           150.0       150.0  150.0\n"
     ]
    }
   ],
   "source": [
    "print(stud_marks.fillna(150))"
   ]
  },
  {
   "cell_type": "code",
   "execution_count": 61,
   "id": "51740662-a59b-4c57-8cbe-dfa90034005a",
   "metadata": {},
   "outputs": [
    {
     "name": "stdout",
     "output_type": "stream",
     "text": [
      "0    500.0\n",
      "1    500.0\n",
      "2    500.0\n",
      "3    500.0\n",
      "4    500.0\n",
      "5    500.0\n",
      "6    700.0\n",
      "Name: Total Marks, dtype: float64\n"
     ]
    }
   ],
   "source": [
    "print(stud_marks[\"Total Marks\"].fillna(555))"
   ]
  },
  {
   "cell_type": "code",
   "execution_count": 62,
   "id": "cead2b7c-648d-47f8-b05c-5d11232339e7",
   "metadata": {},
   "outputs": [
    {
     "name": "stdout",
     "output_type": "stream",
     "text": [
      "   SrNo     Name  Total Marks  Obtained Marks  Percentage  Grade  percentage\n",
      "0     1    Kevin        500.0           400.0         NaN    NaN        80.0\n",
      "1     2     cscs        500.0           450.0         NaN    NaN        90.0\n",
      "2     3   Vatsal        500.0           350.0         NaN    NaN        70.0\n",
      "3     4     gwgw        500.0           320.0         NaN    NaN        64.0\n",
      "4     5  Rutansh        500.0           220.0         NaN    NaN        44.0\n",
      "5     6     feff        500.0           120.0         NaN    NaN        24.0\n",
      "6     7     sccw        700.0             NaN         NaN    NaN         NaN\n"
     ]
    },
    {
     "name": "stderr",
     "output_type": "stream",
     "text": [
      "C:\\Users\\HP\\AppData\\Local\\Temp\\ipykernel_15216\\118054427.py:1: FutureWarning: A value is trying to be set on a copy of a DataFrame or Series through chained assignment using an inplace method.\n",
      "The behavior will change in pandas 3.0. This inplace method will never work because the intermediate object on which we are setting values always behaves as a copy.\n",
      "\n",
      "For example, when doing 'df[col].method(value, inplace=True)', try using 'df.method({col: value}, inplace=True)' or df[col] = df[col].method(value) instead, to perform the operation inplace on the original object.\n",
      "\n",
      "\n",
      "  stud_marks[\"Total Marks\"].fillna(700,inplace=True)\n"
     ]
    }
   ],
   "source": [
    "stud_marks[\"Total Marks\"].fillna(700,inplace=True)\n",
    "print(stud_marks)"
   ]
  },
  {
   "cell_type": "code",
   "execution_count": 56,
   "id": "ba845130-a27a-466c-89df-acd827a6a176",
   "metadata": {},
   "outputs": [
    {
     "name": "stdout",
     "output_type": "stream",
     "text": [
      "310.0\n",
      "median:335.0\n",
      "mode:0    120.0\n",
      "1    220.0\n",
      "2    320.0\n",
      "3    350.0\n",
      "4    400.0\n",
      "5    450.0\n",
      "Name: Obtained Marks, dtype: float64\n"
     ]
    }
   ],
   "source": [
    "mean=stud_marks[\"Obtained Marks\"].mean()\n",
    "print(mean)\n",
    "\n",
    "median=stud_marks[\"Obtained Marks\"].median()\n",
    "print(f\"median:{median}\")\n",
    "\n",
    "mode=stud_marks[\"Obtained Marks\"].mode()\n",
    "print(f\"mode:{mode}\")"
   ]
  },
  {
   "cell_type": "code",
   "execution_count": 57,
   "id": "421c39c5-d311-49be-8aa7-835227081c79",
   "metadata": {},
   "outputs": [
    {
     "data": {
      "text/plain": [
       "Index(['SrNo', 'Name', 'Total Marks', 'Obtained Marks', 'Percentage', 'Grade'], dtype='object')"
      ]
     },
     "execution_count": 57,
     "metadata": {},
     "output_type": "execute_result"
    }
   ],
   "source": [
    "stud_marks.columns"
   ]
  },
  {
   "cell_type": "code",
   "execution_count": 58,
   "id": "be062e94-6e52-4ebe-82dd-0ab911951a1c",
   "metadata": {},
   "outputs": [
    {
     "name": "stdout",
     "output_type": "stream",
     "text": [
      "   SrNo     Name  Total Marks  Obtained Marks  Percentage  Grade\n",
      "0     1    Kevin        500.0           400.0         NaN    NaN\n",
      "1     2     cscs        500.0           450.0         NaN    NaN\n",
      "2     3   Vatsal        500.0           350.0         NaN    NaN\n",
      "3     4     gwgw        500.0           320.0         NaN    NaN\n",
      "4     5  Rutansh        500.0           220.0         NaN    NaN\n"
     ]
    }
   ],
   "source": [
    "print(stud_marks.loc[0:4])"
   ]
  },
  {
   "cell_type": "code",
   "execution_count": 59,
   "id": "6627d79f-8ab7-4e1b-a22f-07ee2f3cc960",
   "metadata": {},
   "outputs": [
    {
     "data": {
      "text/html": [
       "<div>\n",
       "<style scoped>\n",
       "    .dataframe tbody tr th:only-of-type {\n",
       "        vertical-align: middle;\n",
       "    }\n",
       "\n",
       "    .dataframe tbody tr th {\n",
       "        vertical-align: top;\n",
       "    }\n",
       "\n",
       "    .dataframe thead th {\n",
       "        text-align: right;\n",
       "    }\n",
       "</style>\n",
       "<table border=\"1\" class=\"dataframe\">\n",
       "  <thead>\n",
       "    <tr style=\"text-align: right;\">\n",
       "      <th></th>\n",
       "      <th>SrNo</th>\n",
       "      <th>Name</th>\n",
       "      <th>Total Marks</th>\n",
       "      <th>Obtained Marks</th>\n",
       "      <th>Percentage</th>\n",
       "      <th>Grade</th>\n",
       "    </tr>\n",
       "  </thead>\n",
       "  <tbody>\n",
       "    <tr>\n",
       "      <th>1</th>\n",
       "      <td>2</td>\n",
       "      <td>cscs</td>\n",
       "      <td>500.0</td>\n",
       "      <td>450.0</td>\n",
       "      <td>NaN</td>\n",
       "      <td>NaN</td>\n",
       "    </tr>\n",
       "    <tr>\n",
       "      <th>0</th>\n",
       "      <td>1</td>\n",
       "      <td>Kevin</td>\n",
       "      <td>500.0</td>\n",
       "      <td>400.0</td>\n",
       "      <td>NaN</td>\n",
       "      <td>NaN</td>\n",
       "    </tr>\n",
       "    <tr>\n",
       "      <th>2</th>\n",
       "      <td>3</td>\n",
       "      <td>Vatsal</td>\n",
       "      <td>500.0</td>\n",
       "      <td>350.0</td>\n",
       "      <td>NaN</td>\n",
       "      <td>NaN</td>\n",
       "    </tr>\n",
       "    <tr>\n",
       "      <th>3</th>\n",
       "      <td>4</td>\n",
       "      <td>gwgw</td>\n",
       "      <td>500.0</td>\n",
       "      <td>320.0</td>\n",
       "      <td>NaN</td>\n",
       "      <td>NaN</td>\n",
       "    </tr>\n",
       "    <tr>\n",
       "      <th>4</th>\n",
       "      <td>5</td>\n",
       "      <td>Rutansh</td>\n",
       "      <td>500.0</td>\n",
       "      <td>220.0</td>\n",
       "      <td>NaN</td>\n",
       "      <td>NaN</td>\n",
       "    </tr>\n",
       "    <tr>\n",
       "      <th>5</th>\n",
       "      <td>6</td>\n",
       "      <td>feff</td>\n",
       "      <td>500.0</td>\n",
       "      <td>120.0</td>\n",
       "      <td>NaN</td>\n",
       "      <td>NaN</td>\n",
       "    </tr>\n",
       "    <tr>\n",
       "      <th>6</th>\n",
       "      <td>7</td>\n",
       "      <td>sccw</td>\n",
       "      <td>700.0</td>\n",
       "      <td>NaN</td>\n",
       "      <td>NaN</td>\n",
       "      <td>NaN</td>\n",
       "    </tr>\n",
       "  </tbody>\n",
       "</table>\n",
       "</div>"
      ],
      "text/plain": [
       "   SrNo     Name  Total Marks  Obtained Marks  Percentage  Grade\n",
       "1     2     cscs        500.0           450.0         NaN    NaN\n",
       "0     1    Kevin        500.0           400.0         NaN    NaN\n",
       "2     3   Vatsal        500.0           350.0         NaN    NaN\n",
       "3     4     gwgw        500.0           320.0         NaN    NaN\n",
       "4     5  Rutansh        500.0           220.0         NaN    NaN\n",
       "5     6     feff        500.0           120.0         NaN    NaN\n",
       "6     7     sccw        700.0             NaN         NaN    NaN"
      ]
     },
     "execution_count": 59,
     "metadata": {},
     "output_type": "execute_result"
    }
   ],
   "source": [
    "stud_marks.sort_values(['Obtained Marks'],ascending=0)"
   ]
  },
  {
   "cell_type": "code",
   "execution_count": 60,
   "id": "36a6f75c-898d-4994-8a72-5e40b1744460",
   "metadata": {},
   "outputs": [
    {
     "data": {
      "text/html": [
       "<div>\n",
       "<style scoped>\n",
       "    .dataframe tbody tr th:only-of-type {\n",
       "        vertical-align: middle;\n",
       "    }\n",
       "\n",
       "    .dataframe tbody tr th {\n",
       "        vertical-align: top;\n",
       "    }\n",
       "\n",
       "    .dataframe thead th {\n",
       "        text-align: right;\n",
       "    }\n",
       "</style>\n",
       "<table border=\"1\" class=\"dataframe\">\n",
       "  <thead>\n",
       "    <tr style=\"text-align: right;\">\n",
       "      <th></th>\n",
       "      <th>SrNo</th>\n",
       "      <th>Name</th>\n",
       "      <th>Total Marks</th>\n",
       "      <th>Obtained Marks</th>\n",
       "      <th>Percentage</th>\n",
       "      <th>Grade</th>\n",
       "      <th>percentage</th>\n",
       "    </tr>\n",
       "  </thead>\n",
       "  <tbody>\n",
       "    <tr>\n",
       "      <th>0</th>\n",
       "      <td>1</td>\n",
       "      <td>Kevin</td>\n",
       "      <td>500.0</td>\n",
       "      <td>400.0</td>\n",
       "      <td>NaN</td>\n",
       "      <td>NaN</td>\n",
       "      <td>80.0</td>\n",
       "    </tr>\n",
       "    <tr>\n",
       "      <th>1</th>\n",
       "      <td>2</td>\n",
       "      <td>cscs</td>\n",
       "      <td>500.0</td>\n",
       "      <td>450.0</td>\n",
       "      <td>NaN</td>\n",
       "      <td>NaN</td>\n",
       "      <td>90.0</td>\n",
       "    </tr>\n",
       "    <tr>\n",
       "      <th>2</th>\n",
       "      <td>3</td>\n",
       "      <td>Vatsal</td>\n",
       "      <td>500.0</td>\n",
       "      <td>350.0</td>\n",
       "      <td>NaN</td>\n",
       "      <td>NaN</td>\n",
       "      <td>70.0</td>\n",
       "    </tr>\n",
       "    <tr>\n",
       "      <th>3</th>\n",
       "      <td>4</td>\n",
       "      <td>gwgw</td>\n",
       "      <td>500.0</td>\n",
       "      <td>320.0</td>\n",
       "      <td>NaN</td>\n",
       "      <td>NaN</td>\n",
       "      <td>64.0</td>\n",
       "    </tr>\n",
       "    <tr>\n",
       "      <th>4</th>\n",
       "      <td>5</td>\n",
       "      <td>Rutansh</td>\n",
       "      <td>500.0</td>\n",
       "      <td>220.0</td>\n",
       "      <td>NaN</td>\n",
       "      <td>NaN</td>\n",
       "      <td>44.0</td>\n",
       "    </tr>\n",
       "  </tbody>\n",
       "</table>\n",
       "</div>"
      ],
      "text/plain": [
       "   SrNo     Name  Total Marks  Obtained Marks  Percentage  Grade  percentage\n",
       "0     1    Kevin        500.0           400.0         NaN    NaN        80.0\n",
       "1     2     cscs        500.0           450.0         NaN    NaN        90.0\n",
       "2     3   Vatsal        500.0           350.0         NaN    NaN        70.0\n",
       "3     4     gwgw        500.0           320.0         NaN    NaN        64.0\n",
       "4     5  Rutansh        500.0           220.0         NaN    NaN        44.0"
      ]
     },
     "execution_count": 60,
     "metadata": {},
     "output_type": "execute_result"
    }
   ],
   "source": [
    "stud_marks['percentage']=(stud_marks['Obtained Marks']/stud_marks['Total Marks'])*100\n",
    "stud_marks.head(5)"
   ]
  },
  {
   "cell_type": "code",
   "execution_count": null,
   "id": "bf48e225-317d-47f9-b0bc-31d3a64f0f42",
   "metadata": {},
   "outputs": [],
   "source": []
  },
  {
   "cell_type": "code",
   "execution_count": null,
   "id": "5f8a28bc-7fb7-4265-bb11-8d808c65052b",
   "metadata": {},
   "outputs": [],
   "source": []
  },
  {
   "cell_type": "code",
   "execution_count": null,
   "id": "77e78256-ea09-4c15-96d2-b1cac1437d8b",
   "metadata": {},
   "outputs": [],
   "source": []
  },
  {
   "cell_type": "code",
   "execution_count": null,
   "id": "d3250659-7b09-46df-a799-6aa68fc4b932",
   "metadata": {},
   "outputs": [],
   "source": []
  },
  {
   "cell_type": "code",
   "execution_count": null,
   "id": "24174451-1c15-40b0-81b5-e64be21a71f7",
   "metadata": {},
   "outputs": [],
   "source": []
  },
  {
   "cell_type": "code",
   "execution_count": null,
   "id": "5bc5e6c4-33cc-4c9b-931e-e57089bb971e",
   "metadata": {},
   "outputs": [],
   "source": []
  },
  {
   "cell_type": "code",
   "execution_count": null,
   "id": "6ee20215-4e4e-40c2-98be-625e44af35aa",
   "metadata": {},
   "outputs": [],
   "source": []
  },
  {
   "cell_type": "code",
   "execution_count": null,
   "id": "c4104bf2-f939-4f72-b629-6d36b94363db",
   "metadata": {},
   "outputs": [],
   "source": []
  },
  {
   "cell_type": "code",
   "execution_count": null,
   "id": "5cd45770-47d8-45a9-8520-459cfbe7dcab",
   "metadata": {},
   "outputs": [],
   "source": []
  },
  {
   "cell_type": "code",
   "execution_count": null,
   "id": "4c654c29-9201-4c71-ab38-51eec14424ea",
   "metadata": {},
   "outputs": [],
   "source": []
  },
  {
   "cell_type": "code",
   "execution_count": null,
   "id": "5e5429fe-17f9-4dce-aabd-9ad9f3a8ef13",
   "metadata": {},
   "outputs": [],
   "source": []
  },
  {
   "cell_type": "code",
   "execution_count": null,
   "id": "6aa2162e-283b-48b2-989e-070f123f6ef5",
   "metadata": {},
   "outputs": [],
   "source": []
  },
  {
   "cell_type": "code",
   "execution_count": null,
   "id": "8574ed24-2da1-4578-a02c-8aad7a7602ae",
   "metadata": {},
   "outputs": [],
   "source": []
  },
  {
   "cell_type": "code",
   "execution_count": null,
   "id": "8b449ca1-f6b1-4c9a-868d-8f4ba1a9904b",
   "metadata": {},
   "outputs": [],
   "source": []
  },
  {
   "cell_type": "code",
   "execution_count": null,
   "id": "46d79bfe-9dd4-4f2d-9982-49e58f32d7a2",
   "metadata": {},
   "outputs": [],
   "source": []
  },
  {
   "cell_type": "code",
   "execution_count": null,
   "id": "b7df30e4-debf-41a8-965d-4a3f97aacac8",
   "metadata": {},
   "outputs": [],
   "source": []
  },
  {
   "cell_type": "code",
   "execution_count": null,
   "id": "66bc90ab-e7eb-46ba-bb32-400c1e85fdde",
   "metadata": {},
   "outputs": [],
   "source": []
  },
  {
   "cell_type": "code",
   "execution_count": null,
   "id": "682b6ac2-faa4-45ba-a4e5-41cd724898a3",
   "metadata": {},
   "outputs": [],
   "source": []
  },
  {
   "cell_type": "code",
   "execution_count": null,
   "id": "1aabba4e-d10f-4302-8de3-a9caf4d1badc",
   "metadata": {},
   "outputs": [],
   "source": []
  },
  {
   "cell_type": "code",
   "execution_count": null,
   "id": "e5fa8cae-61a6-46e1-93a4-66f57fbd9cd8",
   "metadata": {},
   "outputs": [],
   "source": []
  },
  {
   "cell_type": "code",
   "execution_count": null,
   "id": "1249aae9-ba14-4613-9808-572c993995e1",
   "metadata": {},
   "outputs": [],
   "source": []
  },
  {
   "cell_type": "code",
   "execution_count": null,
   "id": "7f77ce7a-4424-438e-b4d2-f39b3f33c20a",
   "metadata": {},
   "outputs": [],
   "source": []
  },
  {
   "cell_type": "code",
   "execution_count": null,
   "id": "e48792d1-75d2-4074-8e88-1603074d349a",
   "metadata": {},
   "outputs": [],
   "source": []
  },
  {
   "cell_type": "code",
   "execution_count": null,
   "id": "85b6bad4-e084-4294-83ee-c7a806689b1c",
   "metadata": {},
   "outputs": [],
   "source": []
  },
  {
   "cell_type": "code",
   "execution_count": null,
   "id": "c717cc35-92d7-4fe9-9a6b-7890fb81bd1f",
   "metadata": {},
   "outputs": [],
   "source": []
  },
  {
   "cell_type": "code",
   "execution_count": null,
   "id": "6f4dbfac-06d8-456e-9331-ab6b83721947",
   "metadata": {},
   "outputs": [],
   "source": []
  },
  {
   "cell_type": "code",
   "execution_count": null,
   "id": "92999035-9af3-4312-951b-7db31a3d492c",
   "metadata": {},
   "outputs": [],
   "source": []
  },
  {
   "cell_type": "code",
   "execution_count": null,
   "id": "c5d10188-dc2b-4db3-a484-5d00d4474cc8",
   "metadata": {},
   "outputs": [],
   "source": []
  },
  {
   "cell_type": "code",
   "execution_count": null,
   "id": "45e288fc-091a-4b54-a671-4aa880f82608",
   "metadata": {},
   "outputs": [],
   "source": []
  },
  {
   "cell_type": "code",
   "execution_count": null,
   "id": "694683b3-875f-4d02-b595-ed48cda7b969",
   "metadata": {},
   "outputs": [],
   "source": []
  },
  {
   "cell_type": "code",
   "execution_count": null,
   "id": "d008c7b4-1c6d-4788-b84b-0d0be845318c",
   "metadata": {},
   "outputs": [],
   "source": []
  },
  {
   "cell_type": "code",
   "execution_count": null,
   "id": "7714dce9-da23-47c5-a03d-b27e9c7d7ff4",
   "metadata": {},
   "outputs": [],
   "source": []
  },
  {
   "cell_type": "code",
   "execution_count": null,
   "id": "1fb7a578-ac1d-43a2-b730-e73fc4e10d0a",
   "metadata": {},
   "outputs": [],
   "source": []
  },
  {
   "cell_type": "code",
   "execution_count": null,
   "id": "7cc4cdab-59e4-47cf-be81-d700dd3de8bd",
   "metadata": {},
   "outputs": [],
   "source": []
  },
  {
   "cell_type": "code",
   "execution_count": null,
   "id": "ebad3309-6a6f-46df-9f39-06ba23f00a95",
   "metadata": {},
   "outputs": [],
   "source": []
  },
  {
   "cell_type": "code",
   "execution_count": null,
   "id": "dd596f23-09c0-4f49-9edb-0980ce30d32e",
   "metadata": {},
   "outputs": [],
   "source": []
  },
  {
   "cell_type": "code",
   "execution_count": null,
   "id": "d37ef0d0-1730-4994-b6b4-4ac4a811c142",
   "metadata": {},
   "outputs": [],
   "source": []
  },
  {
   "cell_type": "code",
   "execution_count": null,
   "id": "e9e9893d-f35e-4f9b-9277-a89c2c3025e1",
   "metadata": {},
   "outputs": [],
   "source": []
  },
  {
   "cell_type": "code",
   "execution_count": null,
   "id": "6d946b6a-a3c0-4b5b-8312-ad9b59f2fab2",
   "metadata": {},
   "outputs": [],
   "source": []
  }
 ],
 "metadata": {
  "kernelspec": {
   "display_name": "Python 3 (ipykernel)",
   "language": "python",
   "name": "python3"
  },
  "language_info": {
   "codemirror_mode": {
    "name": "ipython",
    "version": 3
   },
   "file_extension": ".py",
   "mimetype": "text/x-python",
   "name": "python",
   "nbconvert_exporter": "python",
   "pygments_lexer": "ipython3",
   "version": "3.13.1"
  }
 },
 "nbformat": 4,
 "nbformat_minor": 5
}
